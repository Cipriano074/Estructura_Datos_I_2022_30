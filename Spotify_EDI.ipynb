{
  "nbformat": 4,
  "nbformat_minor": 0,
  "metadata": {
    "colab": {
      "provenance": [],
      "collapsed_sections": [],
      "authorship_tag": "ABX9TyODCVBbOb8TwoV5bKax23zL"
    },
    "kernelspec": {
      "name": "python3",
      "display_name": "Python 3"
    },
    "language_info": {
      "name": "python"
    }
  },
  "cells": [
    {
      "cell_type": "code",
      "execution_count": null,
      "metadata": {
        "id": "_hwjQ1nUStLy"
      },
      "outputs": [],
      "source": [
        "!pip install spotipy"
      ]
    },
    {
      "cell_type": "code",
      "source": [
        "import spotipy\n",
        "from spotipy.oauth2 import SpotifyClientCredentials"
      ],
      "metadata": {
        "id": "zHohCY2YXTsR"
      },
      "execution_count": null,
      "outputs": []
    },
    {
      "cell_type": "code",
      "source": [
        "import requests"
      ],
      "metadata": {
        "id": "xxN2Rzlzg6NA"
      },
      "execution_count": null,
      "outputs": []
    },
    {
      "cell_type": "code",
      "source": [
        "class Nodo:\n",
        "  def __init__(self, data):\n",
        "    self.id = data[0]\n",
        "    self.name = data[1]\n",
        "    self.image = data[2]\n",
        "    self.next = None\n",
        "    self.prev = None\n",
        "\n",
        "class DoubleLinkedList:\n",
        "  def __init__(self):\n",
        "    self.PTR = None\n",
        "    self.ULT = None\n",
        "\n",
        "  def AddNode(self,data):\n",
        "    P = Nodo(data)\n",
        "    if (self.PTR == None):\n",
        "      self.PTR = P\n",
        "      self.ULT = P \n",
        "    else:\n",
        "      self.ULT.next = P\n",
        "      P.prev = self.ULT\n",
        "      self.ULT = P             \n",
        "  def Recorrido_PTR(self):\n",
        "    P = self.PTR\n",
        "    while(P != None):\n",
        "      response = requests.get(P.image)\n",
        "      if (\"/\" in P.name):\n",
        "        file = open(P.name.split(\"/\")[0]+\".png\", \"wb\")\n",
        "      else:\n",
        "        file = open(P.name+\".png\", \"wb\")\n",
        "      file.write(response.content)\n",
        "      file.close()\n",
        "      P = P.next\n",
        "  def Recorrido_ULT(self):\n",
        "    P = self.ULT\n",
        "    print(\"None <->\")\n",
        "    lista_res = []\n",
        "    while(P != None):\n",
        "      print(P.name, spotify.audio_features(P.id)[0][\"danceability\"])\n",
        "      lista_res.append([P.name, spotify.audio_features(P.id)[0][\"danceability\"]])\n",
        "      P = P.prev\n",
        "    print(\"None\")\n",
        "    print(lista_res)\n",
        "    return lista_res"
      ],
      "metadata": {
        "id": "YzzOHQztd3u2"
      },
      "execution_count": null,
      "outputs": []
    },
    {
      "cell_type": "code",
      "source": [
        "# Change the string variables in the code below wit with your credentials\n",
        "# you can find how to create them in the following links:\n",
        "# https://developer.spotify.com/dashboard/\n",
        "# the spotipy documentation can be found in the following link:\n",
        "# https://spotipy.readthedocs.io/en/master/\n",
        "client_credentials_manager = SpotifyClientCredentials(\"SPOTIPY_CLIENT_ID\",\n",
        "                                                      \"SPOTIPY_CLIENT_SECRET\")\n",
        "spotify = spotipy.Spotify(client_credentials_manager=client_credentials_manager)"
      ],
      "metadata": {
        "id": "Lf6PNytjSy5g"
      },
      "execution_count": null,
      "outputs": []
    },
    {
      "cell_type": "code",
      "source": [
        "url_playlist = \"https://open.spotify.com/playlist/37i9dQZF1DZ06evO1XumoU?si=7844dc2d2bc14ed0\"\n",
        "id_playlist = url_playlist.split(\"/\")[-1].split(\"?\")[0]"
      ],
      "metadata": {
        "id": "dEVWujU7ZvSs"
      },
      "execution_count": null,
      "outputs": []
    },
    {
      "cell_type": "code",
      "source": [
        "results = spotify.playlist_tracks(id_playlist)"
      ],
      "metadata": {
        "id": "_CUxldy7X0UG"
      },
      "execution_count": null,
      "outputs": []
    },
    {
      "cell_type": "code",
      "source": [
        "lista = DoubleLinkedList()\n",
        "for track in results[\"items\"]:\n",
        "  l = []\n",
        "  l.append(track[\"track\"][\"id\"])\n",
        "  l.append(track[\"track\"][\"name\"])\n",
        "  l.append(track[\"track\"][\"album\"][\"images\"][1][\"url\"])\n",
        "  lista.AddNode(l)"
      ],
      "metadata": {
        "id": "uYK8e-nTce3a"
      },
      "execution_count": null,
      "outputs": []
    },
    {
      "cell_type": "code",
      "source": [
        "#lista.Recorrido_PTR()"
      ],
      "metadata": {
        "id": "Y6fOeBwJauI3"
      },
      "execution_count": null,
      "outputs": []
    },
    {
      "cell_type": "code",
      "source": [
        "lista_response = lista.Recorrido_ULT()"
      ],
      "metadata": {
        "colab": {
          "base_uri": "https://localhost:8080/"
        },
        "id": "RjZ-bUwTgoDE",
        "outputId": "a839807a-5da3-465b-ab29-0548235345e3"
      },
      "execution_count": null,
      "outputs": [
        {
          "output_type": "stream",
          "name": "stdout",
          "text": [
            "None <->\n",
            "Apaga Y Vamonos 0.788\n",
            "Almost Like Praying (feat. Artists for Puerto Rico) 0.471\n",
            "Coronita de Flores 0.776\n",
            "El Farolito 0.426\n",
            "Loma de Cayenas 0.812\n",
            "Mi Bendición - En Vivo Estadio Olímpico De República Dominicana/2012 0.683\n",
            "Amapola 0.526\n",
            "Lámpara Pa' Mis Pies 0.72\n",
            "Si No Te Hubieras Ido 0.626\n",
            "La Llave De Mi Corazón - Live - Estadio Olímpico De República Dominicana/2012 0.62\n",
            "Mi PC 0.714\n",
            "Para Que Sepas 0.625\n",
            "La Guagua 0.772\n",
            "Las Avispas - En Vivo Estadio Olímpico De República Dominicana/2012 0.649\n",
            "Solo Tengo Ojos Para Ti 0.653\n",
            "En El Cielo No Hay Hospital 0.761\n",
            "La Cosquillita 0.456\n",
            "El Costo de la Vida 0.663\n",
            "Si Tu No Bailas Conmigo 0.792\n",
            "Palomita Blanca 0.73\n",
            "Muchachita Linda 0.829\n",
            "Visa Para un Sueño 0.744\n",
            "Como Yo 0.822\n",
            "El Niágra En Bicicleta - Live - Estadio Olímpico De República Dominicana/2012 0.695\n",
            "Todo Tiene Su Hora 0.778\n",
            "Como Abeja al Panal 0.511\n",
            "Bachata Rosa 0.672\n",
            "La Travesia 0.812\n",
            "La Hormiguita 0.721\n",
            "A Pedir Su Mano 0.639\n",
            "Ojalá Que Llueva Café 0.569\n",
            "Frío, Frío - En Vivo Estadio Olímpico De República Dominicana/2012 0.574\n",
            "Un besito más (feat. Juan Luis Guerra) 0.598\n",
            "Estrellitas y Duendes 0.624\n",
            "Tus Besos 0.71\n",
            "Carmín (feat. Juan Luis Guerra) 0.731\n",
            "Vale la Pena 0.73\n",
            "Burbujas de Amor 0.621\n",
            "La Bilirrubina - En Vivo Estadio Olímpico De República Dominicana/2012 0.585\n",
            "Que Me Des Tu Cariño 0.792\n",
            "Llegaste Tú 0.768\n",
            "La Bilirrubina 0.739\n",
            "Bachata En Fukuoka 0.878\n",
            "Las Avispas 0.814\n",
            "El Níagara en Bicicleta 0.728\n",
            "Bachata Rosa 0.628\n",
            "Mi Bendición 0.826\n",
            "Cuando Me Enamoro 0.82\n",
            "Pambiche de novia 0.673\n",
            "Kitipun 0.857\n",
            "None\n",
            "[['Apaga Y Vamonos', 0.788], ['Almost Like Praying (feat. Artists for Puerto Rico)', 0.471], ['Coronita de Flores', 0.776], ['El Farolito', 0.426], ['Loma de Cayenas', 0.812], ['Mi Bendición - En Vivo Estadio Olímpico De República Dominicana/2012', 0.683], ['Amapola', 0.526], [\"Lámpara Pa' Mis Pies\", 0.72], ['Si No Te Hubieras Ido', 0.626], ['La Llave De Mi Corazón - Live - Estadio Olímpico De República Dominicana/2012', 0.62], ['Mi PC', 0.714], ['Para Que Sepas', 0.625], ['La Guagua', 0.772], ['Las Avispas - En Vivo Estadio Olímpico De República Dominicana/2012', 0.649], ['Solo Tengo Ojos Para Ti', 0.653], ['En El Cielo No Hay Hospital', 0.761], ['La Cosquillita', 0.456], ['El Costo de la Vida', 0.663], ['Si Tu No Bailas Conmigo', 0.792], ['Palomita Blanca', 0.73], ['Muchachita Linda', 0.829], ['Visa Para un Sueño', 0.744], ['Como Yo', 0.822], ['El Niágra En Bicicleta - Live - Estadio Olímpico De República Dominicana/2012', 0.695], ['Todo Tiene Su Hora', 0.778], ['Como Abeja al Panal', 0.511], ['Bachata Rosa', 0.672], ['La Travesia', 0.812], ['La Hormiguita', 0.721], ['A Pedir Su Mano', 0.639], ['Ojalá Que Llueva Café', 0.569], ['Frío, Frío - En Vivo Estadio Olímpico De República Dominicana/2012', 0.574], ['Un besito más (feat. Juan Luis Guerra)', 0.598], ['Estrellitas y Duendes', 0.624], ['Tus Besos', 0.71], ['Carmín (feat. Juan Luis Guerra)', 0.731], ['Vale la Pena', 0.73], ['Burbujas de Amor', 0.621], ['La Bilirrubina - En Vivo Estadio Olímpico De República Dominicana/2012', 0.585], ['Que Me Des Tu Cariño', 0.792], ['Llegaste Tú', 0.768], ['La Bilirrubina', 0.739], ['Bachata En Fukuoka', 0.878], ['Las Avispas', 0.814], ['El Níagara en Bicicleta', 0.728], ['Bachata Rosa', 0.628], ['Mi Bendición', 0.826], ['Cuando Me Enamoro', 0.82], ['Pambiche de novia', 0.673], ['Kitipun', 0.857]]\n"
          ]
        }
      ]
    },
    {
      "cell_type": "code",
      "source": [
        "maximo = 0\n",
        "name = \"\"\n",
        "for item in lista_response:\n",
        "  if(item[-1] > maximo):\n",
        "    name = item[0]\n",
        "    maximo = item[-1]\n",
        "print(name,maximo)"
      ],
      "metadata": {
        "colab": {
          "base_uri": "https://localhost:8080/"
        },
        "id": "bYLMHKdfgrz8",
        "outputId": "f8daaa83-f2ee-4303-de5e-f71fb29b786b"
      },
      "execution_count": null,
      "outputs": [
        {
          "output_type": "stream",
          "name": "stdout",
          "text": [
            "Bachata En Fukuoka 0.878\n"
          ]
        }
      ]
    }
  ]
}